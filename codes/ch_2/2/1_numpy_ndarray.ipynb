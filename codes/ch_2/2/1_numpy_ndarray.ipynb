{
  "nbformat": 4,
  "nbformat_minor": 0,
  "metadata": {
    "anaconda-cloud": {},
    "kernelspec": {
      "display_name": "Python 3",
      "language": "python",
      "name": "python3"
    },
    "language_info": {
      "codemirror_mode": {
        "name": "ipython",
        "version": 3
      },
      "file_extension": ".py",
      "mimetype": "text/x-python",
      "name": "python",
      "nbconvert_exporter": "python",
      "pygments_lexer": "ipython3",
      "version": "3.6.2"
    },
    "nav_menu": {},
    "toc": {
      "navigate_menu": true,
      "number_sections": true,
      "sideBar": true,
      "threshold": 6,
      "toc_cell": false,
      "toc_section_display": "block",
      "toc_window_display": false
    },
    "colab": {
      "name": "1_numpy_ndarray.ipynb",
      "provenance": []
    }
  },
  "cells": [
    {
      "cell_type": "markdown",
      "metadata": {
        "id": "XWCs7baTgMo6"
      },
      "source": [
        "#### numpy 모듈의 호출"
      ]
    },
    {
      "cell_type": "code",
      "metadata": {
        "ExecuteTime": {
          "end_time": "2018-02-06T10:41:32.363237Z",
          "start_time": "2018-02-06T10:41:32.162978Z"
        },
        "collapsed": true,
        "id": "sCZnMuiHgMo7"
      },
      "source": [
        "import numpy as np"
      ],
      "execution_count": null,
      "outputs": []
    },
    {
      "cell_type": "markdown",
      "metadata": {
        "id": "SGgAdy2OgMo7"
      },
      "source": [
        "#### array의 생성"
      ]
    },
    {
      "cell_type": "code",
      "metadata": {
        "ExecuteTime": {
          "end_time": "2018-02-06T10:41:40.711502Z",
          "start_time": "2018-02-06T10:41:40.701484Z"
        },
        "id": "ZI2xnwVXgMo8",
        "outputId": "c5f1d2e1-8ef1-4efe-c76e-bb1a97eba0a3"
      },
      "source": [
        "test_array = np.array([\"1\", \"4\", 5, 8], float)\n",
        "test_array"
      ],
      "execution_count": null,
      "outputs": [
        {
          "output_type": "execute_result",
          "data": {
            "text/plain": [
              "array([ 1.,  4.,  5.,  8.])"
            ]
          },
          "metadata": {
            "tags": []
          },
          "execution_count": 2
        }
      ]
    },
    {
      "cell_type": "code",
      "metadata": {
        "ExecuteTime": {
          "end_time": "2017-09-26T06:20:20.461471Z",
          "start_time": "2017-09-26T06:20:20.457795Z"
        },
        "id": "_OwfGPRqgMo8",
        "outputId": "80730295-577d-45fe-b5d6-b41f42263166"
      },
      "source": [
        "type(test_array[3])"
      ],
      "execution_count": null,
      "outputs": [
        {
          "output_type": "execute_result",
          "data": {
            "text/plain": [
              "numpy.float64"
            ]
          },
          "metadata": {
            "tags": []
          },
          "execution_count": 5
        }
      ]
    },
    {
      "cell_type": "code",
      "metadata": {
        "ExecuteTime": {
          "end_time": "2018-02-06T10:49:38.656908Z",
          "start_time": "2018-02-06T10:49:38.652145Z"
        },
        "id": "AOq9eVUcgMo8",
        "outputId": "0a178bfd-89ff-4989-99c1-05663edb167d"
      },
      "source": [
        "test_array = np.array([1, 4, 5, \"8\"], np.float32) # String Type의 데이터를 입력해도\n",
        "test_array"
      ],
      "execution_count": null,
      "outputs": [
        {
          "output_type": "execute_result",
          "data": {
            "text/plain": [
              "array([ 1.,  4.,  5.,  8.], dtype=float32)"
            ]
          },
          "metadata": {
            "tags": []
          },
          "execution_count": 5
        }
      ]
    },
    {
      "cell_type": "code",
      "metadata": {
        "id": "G1HdywD9gMo8",
        "outputId": "57093b80-9765-4223-deae-53040865fe75"
      },
      "source": [
        "type(test_array[3])   # Float Type으로 자동 형변환을 실시"
      ],
      "execution_count": null,
      "outputs": [
        {
          "output_type": "execute_result",
          "data": {
            "text/plain": [
              "numpy.float64"
            ]
          },
          "metadata": {
            "tags": []
          },
          "execution_count": 6
        }
      ]
    },
    {
      "cell_type": "code",
      "metadata": {
        "ExecuteTime": {
          "end_time": "2018-02-06T10:49:39.383271Z",
          "start_time": "2018-02-06T10:49:39.379508Z"
        },
        "id": "FqU0h8l8gMo9",
        "outputId": "1e097d31-32a4-4000-ac13-a09e0561fb6c"
      },
      "source": [
        "test_array.dtype   # Array(배열) 전체의 데이터 Type을 반환함"
      ],
      "execution_count": null,
      "outputs": [
        {
          "output_type": "execute_result",
          "data": {
            "text/plain": [
              "dtype('float32')"
            ]
          },
          "metadata": {
            "tags": []
          },
          "execution_count": 6
        }
      ]
    },
    {
      "cell_type": "code",
      "metadata": {
        "ExecuteTime": {
          "end_time": "2018-02-06T10:50:23.838436Z",
          "start_time": "2018-02-06T10:50:23.834092Z"
        },
        "id": "FRjYKHCygMo9",
        "outputId": "43796234-8cb1-4beb-a75a-5ec5c0ab3d7d"
      },
      "source": [
        "np.array([[1, 4, 5, \"8\"]], np.float32).shape"
      ],
      "execution_count": null,
      "outputs": [
        {
          "output_type": "execute_result",
          "data": {
            "text/plain": [
              "(1, 4)"
            ]
          },
          "metadata": {
            "tags": []
          },
          "execution_count": 9
        }
      ]
    },
    {
      "cell_type": "code",
      "metadata": {
        "ExecuteTime": {
          "end_time": "2018-02-06T10:49:47.911106Z",
          "start_time": "2018-02-06T10:49:47.907497Z"
        },
        "id": "Ki_fTtYYgMo9",
        "outputId": "032af5dd-0316-4ad0-8869-0af975839adf"
      },
      "source": [
        "test_array.shape   # Array(배열) 의 shape을 반환함"
      ],
      "execution_count": null,
      "outputs": [
        {
          "output_type": "execute_result",
          "data": {
            "text/plain": [
              "(4,)"
            ]
          },
          "metadata": {
            "tags": []
          },
          "execution_count": 7
        }
      ]
    },
    {
      "cell_type": "markdown",
      "metadata": {
        "id": "YocSCUVngMo9"
      },
      "source": [
        "#### arrary shape"
      ]
    },
    {
      "cell_type": "code",
      "metadata": {
        "id": "LI54bqUMgMo9",
        "outputId": "57e616c6-444a-4c27-f745-04c040164cfa"
      },
      "source": [
        "vector  = [1,2,3,4]\n",
        "np.array(vector, int).shape"
      ],
      "execution_count": null,
      "outputs": [
        {
          "output_type": "execute_result",
          "data": {
            "text/plain": [
              "(4,)"
            ]
          },
          "metadata": {
            "tags": []
          },
          "execution_count": 9
        }
      ]
    },
    {
      "cell_type": "code",
      "metadata": {
        "id": "wSq91vbFgMo9",
        "outputId": "fbcc4f81-b238-43f8-cb98-ed014ea4af7d"
      },
      "source": [
        "matrix  = [[1,2,5,8],[1,2,5,8],[1,2,5,8]]\n",
        "np.array(matrix, int).shape"
      ],
      "execution_count": null,
      "outputs": [
        {
          "output_type": "execute_result",
          "data": {
            "text/plain": [
              "(3, 4)"
            ]
          },
          "metadata": {
            "tags": []
          },
          "execution_count": 10
        }
      ]
    },
    {
      "cell_type": "code",
      "metadata": {
        "id": "9LxVGHsCgMo9",
        "outputId": "d08bb3c4-0d25-4eed-a104-6d907be01547"
      },
      "source": [
        "tensor  = [[[1,2,5,8],[1,2,5,8],[1,2,5,8]], \n",
        "           [[1,2,5,8],[1,2,5,8],[1,2,5,8]], \n",
        "           [[1,2,5,8],[1,2,5,8],[1,2,5,8]], \n",
        "           [[1,2,5,8],[1,2,5,8],[1,2,5,8]]]\n",
        "np.array(tensor, int).shape"
      ],
      "execution_count": null,
      "outputs": [
        {
          "output_type": "execute_result",
          "data": {
            "text/plain": [
              "(4, 3, 4)"
            ]
          },
          "metadata": {
            "tags": []
          },
          "execution_count": 11
        }
      ]
    },
    {
      "cell_type": "code",
      "metadata": {
        "id": "HTTlbjmogMo-",
        "outputId": "df3fd924-a13f-4fa1-ca90-f87bcf7f04af"
      },
      "source": [
        "np.array(tensor, int).ndim"
      ],
      "execution_count": null,
      "outputs": [
        {
          "output_type": "execute_result",
          "data": {
            "text/plain": [
              "3"
            ]
          },
          "metadata": {
            "tags": []
          },
          "execution_count": 12
        }
      ]
    },
    {
      "cell_type": "code",
      "metadata": {
        "id": "QIzQ-nDGgMo-",
        "outputId": "e00805fb-9994-4eaf-c02f-d7332d854652"
      },
      "source": [
        "np.array(tensor, int).size"
      ],
      "execution_count": null,
      "outputs": [
        {
          "output_type": "execute_result",
          "data": {
            "text/plain": [
              "48"
            ]
          },
          "metadata": {
            "tags": []
          },
          "execution_count": 13
        }
      ]
    },
    {
      "cell_type": "markdown",
      "metadata": {
        "id": "SE-9pzI6gMo_"
      },
      "source": [
        "#### numpy dtype"
      ]
    },
    {
      "cell_type": "code",
      "metadata": {
        "ExecuteTime": {
          "end_time": "2017-09-26T06:27:31.766802Z",
          "start_time": "2017-09-26T06:27:31.762232Z"
        },
        "id": "p4qem_KfgMo_",
        "outputId": "3ddcab13-fa89-4603-8be4-728f704d54fe"
      },
      "source": [
        "a = np.array([[1, 2, 3], [4.5, 5, 6]], dtype=int)"
      ],
      "execution_count": null,
      "outputs": [
        {
          "output_type": "execute_result",
          "data": {
            "text/plain": [
              "dtype('int64')"
            ]
          },
          "metadata": {
            "tags": []
          },
          "execution_count": 9
        }
      ]
    },
    {
      "cell_type": "code",
      "metadata": {
        "id": "i9lNEUsbgMo_",
        "outputId": "a363530d-9fa6-408e-e892-0dd9f4ee545d"
      },
      "source": [
        "np.array([[1, 2, 3], [4.5, \"5\", \"6\"]], dtype=np.float32)"
      ],
      "execution_count": null,
      "outputs": [
        {
          "output_type": "execute_result",
          "data": {
            "text/plain": [
              "array([[ 1. ,  2. ,  3. ],\n",
              "       [ 4.5,  5. ,  6. ]], dtype=float32)"
            ]
          },
          "metadata": {
            "tags": []
          },
          "execution_count": 20
        }
      ]
    },
    {
      "cell_type": "code",
      "metadata": {
        "ExecuteTime": {
          "end_time": "2017-09-26T06:28:05.235461Z",
          "start_time": "2017-09-26T06:28:05.231668Z"
        },
        "id": "x9o4hBRJgMo_",
        "outputId": "3e382d38-08f1-42e9-cc21-dd12e0086ef0"
      },
      "source": [
        "np.array([[1, 2, 3], [4.5, \"5\", \"6\"]], \n",
        "         dtype=np.float32).nbytes"
      ],
      "execution_count": null,
      "outputs": [
        {
          "output_type": "execute_result",
          "data": {
            "text/plain": [
              "24"
            ]
          },
          "metadata": {
            "tags": []
          },
          "execution_count": 10
        }
      ]
    },
    {
      "cell_type": "code",
      "metadata": {
        "ExecuteTime": {
          "end_time": "2017-09-26T06:28:06.101223Z",
          "start_time": "2017-09-26T06:28:06.096858Z"
        },
        "id": "VDmUm9GsgMo_",
        "outputId": "408bd67c-1a45-4115-d8f7-480f39e69e55"
      },
      "source": [
        "np.array([[1, 2, 3], [4.5, \"5\", \"6\"]], \n",
        "         dtype=np.int8).nbytes"
      ],
      "execution_count": null,
      "outputs": [
        {
          "output_type": "execute_result",
          "data": {
            "text/plain": [
              "6"
            ]
          },
          "metadata": {
            "tags": []
          },
          "execution_count": 11
        }
      ]
    },
    {
      "cell_type": "code",
      "metadata": {
        "ExecuteTime": {
          "end_time": "2017-09-26T06:28:08.085080Z",
          "start_time": "2017-09-26T06:28:08.080775Z"
        },
        "id": "7xzsyHnUgMo_",
        "outputId": "c25a5798-0c44-4e9c-8f38-3b28937384fd"
      },
      "source": [
        "np.array([[1, 2, 3], [4.5, \"5\", \"6\"]], \n",
        "         dtype=np.float64).nbytes"
      ],
      "execution_count": null,
      "outputs": [
        {
          "output_type": "execute_result",
          "data": {
            "text/plain": [
              "48"
            ]
          },
          "metadata": {
            "tags": []
          },
          "execution_count": 12
        }
      ]
    }
  ]
}