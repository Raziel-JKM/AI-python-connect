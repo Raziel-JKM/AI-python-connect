{
  "nbformat": 4,
  "nbformat_minor": 0,
  "metadata": {
    "colab": {
      "provenance": [],
      "machine_shape": "hm",
      "include_colab_link": true
    },
    "kernelspec": {
      "name": "python3",
      "display_name": "Python 3"
    },
    "language_info": {
      "name": "python"
    },
    "accelerator": "TPU"
  },
  "cells": [
    {
      "cell_type": "markdown",
      "metadata": {
        "id": "view-in-github",
        "colab_type": "text"
      },
      "source": [
        "<a href=\"https://colab.research.google.com/github/Raziel-JKM/AI-python-connect/blob/master/%08Download.ipynb\" target=\"_parent\"><img src=\"https://colab.research.google.com/assets/colab-badge.svg\" alt=\"Open In Colab\"/></a>"
      ]
    },
    {
      "cell_type": "code",
      "source": [
        "%%capture\n",
        "pip install git+https://github.com/pytube/pytube"
      ],
      "metadata": {
        "id": "QZdPnxjC6acS"
      },
      "execution_count": null,
      "outputs": []
    },
    {
      "cell_type": "code",
      "source": [
        "pip install --upgrade"
      ],
      "metadata": {
        "colab": {
          "base_uri": "https://localhost:8080/"
        },
        "id": "B260bPCxrPpa",
        "outputId": "0e085069-f2b9-4495-9c51-2c1051d36126"
      },
      "execution_count": null,
      "outputs": [
        {
          "output_type": "stream",
          "name": "stdout",
          "text": [
            "\u001b[31mERROR: You must give at least one requirement to install (see \"pip help install\")\u001b[0m\n"
          ]
        }
      ]
    },
    {
      "cell_type": "code",
      "source": [
        "pip install pytube"
      ],
      "metadata": {
        "colab": {
          "base_uri": "https://localhost:8080/"
        },
        "id": "r0yiZr4u1eDX",
        "outputId": "972e3741-d527-4c7d-e533-185541c68c19"
      },
      "execution_count": null,
      "outputs": [
        {
          "output_type": "stream",
          "name": "stdout",
          "text": [
            "Looking in indexes: https://pypi.org/simple, https://us-python.pkg.dev/colab-wheels/public/simple/\n",
            "Requirement already satisfied: pytube in /usr/local/lib/python3.7/dist-packages (12.1.0)\n"
          ]
        }
      ]
    },
    {
      "cell_type": "code",
      "source": [
        "pip install --upgrade pytube"
      ],
      "metadata": {
        "colab": {
          "base_uri": "https://localhost:8080/"
        },
        "id": "EhJlPUwtp6a9",
        "outputId": "3f9e47f2-ee92-4840-d09f-74170a897733"
      },
      "execution_count": null,
      "outputs": [
        {
          "output_type": "stream",
          "name": "stdout",
          "text": [
            "Collecting pytube\n",
            "  Downloading pytube-11.0.2-py3-none-any.whl (56 kB)\n",
            "\u001b[?25l\r\u001b[K     |█████▉                          | 10 kB 28.7 MB/s eta 0:00:01\r\u001b[K     |███████████▋                    | 20 kB 11.0 MB/s eta 0:00:01\r\u001b[K     |█████████████████▌              | 30 kB 9.2 MB/s eta 0:00:01\r\u001b[K     |███████████████████████▎        | 40 kB 8.5 MB/s eta 0:00:01\r\u001b[K     |█████████████████████████████▏  | 51 kB 5.1 MB/s eta 0:00:01\r\u001b[K     |████████████████████████████████| 56 kB 2.4 MB/s \n",
            "\u001b[?25hInstalling collected packages: pytube\n",
            "Successfully installed pytube-11.0.2\n"
          ]
        }
      ]
    },
    {
      "cell_type": "code",
      "source": [
        "import os \n",
        "import pytube # pip install pytube \n",
        "from pytube.cli import on_progress \n",
        "url = \"https://www.youtube.com/watch?v=xP9hvIYHMC8\" \n",
        "yt = pytube.YouTube(url, on_progress_callback=on_progress) \n",
        "print(yt.streams) "
      ],
      "metadata": {
        "id": "J2_fAHIl0cvu",
        "colab": {
          "base_uri": "https://localhost:8080/"
        },
        "outputId": "2ecd3627-7bc7-4648-d190-ce0164b2741e"
      },
      "execution_count": null,
      "outputs": [
        {
          "output_type": "stream",
          "name": "stdout",
          "text": [
            "[<Stream: itag=\"17\" mime_type=\"video/3gpp\" res=\"144p\" fps=\"8fps\" vcodec=\"mp4v.20.3\" acodec=\"mp4a.40.2\" progressive=\"True\" type=\"video\">, <Stream: itag=\"18\" mime_type=\"video/mp4\" res=\"360p\" fps=\"30fps\" vcodec=\"avc1.42001E\" acodec=\"mp4a.40.2\" progressive=\"True\" type=\"video\">, <Stream: itag=\"22\" mime_type=\"video/mp4\" res=\"720p\" fps=\"30fps\" vcodec=\"avc1.64001F\" acodec=\"mp4a.40.2\" progressive=\"True\" type=\"video\">, <Stream: itag=\"299\" mime_type=\"video/mp4\" res=\"1080p\" fps=\"60fps\" vcodec=\"avc1.64002a\" progressive=\"False\" type=\"video\">, <Stream: itag=\"303\" mime_type=\"video/webm\" res=\"1080p\" fps=\"60fps\" vcodec=\"vp9\" progressive=\"False\" type=\"video\">, <Stream: itag=\"399\" mime_type=\"video/mp4\" res=\"1080p\" fps=\"60fps\" vcodec=\"av01.0.09M.08\" progressive=\"False\" type=\"video\">, <Stream: itag=\"298\" mime_type=\"video/mp4\" res=\"720p\" fps=\"60fps\" vcodec=\"avc1.4d4020\" progressive=\"False\" type=\"video\">, <Stream: itag=\"302\" mime_type=\"video/webm\" res=\"720p\" fps=\"60fps\" vcodec=\"vp9\" progressive=\"False\" type=\"video\">, <Stream: itag=\"398\" mime_type=\"video/mp4\" res=\"720p\" fps=\"60fps\" vcodec=\"av01.0.08M.08\" progressive=\"False\" type=\"video\">, <Stream: itag=\"135\" mime_type=\"video/mp4\" res=\"480p\" fps=\"30fps\" vcodec=\"avc1.4d401f\" progressive=\"False\" type=\"video\">, <Stream: itag=\"244\" mime_type=\"video/webm\" res=\"480p\" fps=\"30fps\" vcodec=\"vp9\" progressive=\"False\" type=\"video\">, <Stream: itag=\"397\" mime_type=\"video/mp4\" res=\"480p\" fps=\"30fps\" vcodec=\"av01.0.04M.08\" progressive=\"False\" type=\"video\">, <Stream: itag=\"134\" mime_type=\"video/mp4\" res=\"360p\" fps=\"30fps\" vcodec=\"avc1.4d401e\" progressive=\"False\" type=\"video\">, <Stream: itag=\"243\" mime_type=\"video/webm\" res=\"360p\" fps=\"30fps\" vcodec=\"vp9\" progressive=\"False\" type=\"video\">, <Stream: itag=\"396\" mime_type=\"video/mp4\" res=\"360p\" fps=\"30fps\" vcodec=\"av01.0.01M.08\" progressive=\"False\" type=\"video\">, <Stream: itag=\"133\" mime_type=\"video/mp4\" res=\"240p\" fps=\"30fps\" vcodec=\"avc1.4d4015\" progressive=\"False\" type=\"video\">, <Stream: itag=\"242\" mime_type=\"video/webm\" res=\"240p\" fps=\"30fps\" vcodec=\"vp9\" progressive=\"False\" type=\"video\">, <Stream: itag=\"395\" mime_type=\"video/mp4\" res=\"240p\" fps=\"30fps\" vcodec=\"av01.0.00M.08\" progressive=\"False\" type=\"video\">, <Stream: itag=\"160\" mime_type=\"video/mp4\" res=\"144p\" fps=\"30fps\" vcodec=\"avc1.4d400c\" progressive=\"False\" type=\"video\">, <Stream: itag=\"278\" mime_type=\"video/webm\" res=\"144p\" fps=\"30fps\" vcodec=\"vp9\" progressive=\"False\" type=\"video\">, <Stream: itag=\"394\" mime_type=\"video/mp4\" res=\"144p\" fps=\"30fps\" vcodec=\"av01.0.00M.08\" progressive=\"False\" type=\"video\">, <Stream: itag=\"139\" mime_type=\"audio/mp4\" abr=\"48kbps\" acodec=\"mp4a.40.5\" progressive=\"False\" type=\"audio\">, <Stream: itag=\"140\" mime_type=\"audio/mp4\" abr=\"128kbps\" acodec=\"mp4a.40.2\" progressive=\"False\" type=\"audio\">, <Stream: itag=\"249\" mime_type=\"audio/webm\" abr=\"50kbps\" acodec=\"opus\" progressive=\"False\" type=\"audio\">, <Stream: itag=\"250\" mime_type=\"audio/webm\" abr=\"70kbps\" acodec=\"opus\" progressive=\"False\" type=\"audio\">, <Stream: itag=\"251\" mime_type=\"audio/webm\" abr=\"160kbps\" acodec=\"opus\" progressive=\"False\" type=\"audio\">]\n"
          ]
        }
      ]
    },
    {
      "cell_type": "code",
      "source": [
        "from pytube import YouTube\n",
        "\n",
        "DOWNLOAD_FOLDER = \"C:\\\\Users\\\\hlee\\\\Desktop\"\n",
        "\n",
        "url = \"https://www.youtube.com/watch?v=d6LGnVCL1_A\"\n",
        "\n",
        "yt = YouTube(url)\n",
        "stream = yt.streams.get_highest_resolution()\n",
        "stream.download(DOWNLOAD_FOLDER)"
      ],
      "metadata": {
        "colab": {
          "base_uri": "https://localhost:8080/",
          "height": 35
        },
        "id": "YNbd-X7o3VOz",
        "outputId": "d73596de-4a63-49b6-f59c-f903f01d07f5"
      },
      "execution_count": null,
      "outputs": [
        {
          "output_type": "execute_result",
          "data": {
            "text/plain": [
              "'/content/C:\\\\Users\\\\hlee\\\\Desktop/Outer Wilds - Official Reveal Trailer.mp4'"
            ],
            "application/vnd.google.colaboratory.intrinsic+json": {
              "type": "string"
            }
          },
          "metadata": {},
          "execution_count": 5
        }
      ]
    },
    {
      "cell_type": "code",
      "source": [
        "urls = ['https://youtu.be/syl3WjAMQUI','https://www.youtube.com/watch?v=BoXqMM0gRJI','https://www.youtube.com/watch?v=HMWJyiIGxyw','https://www.youtube.com/watch?v=C-YE_fv7rew','https://www.youtube.com/watch?v=E0VO51fck0M','https://www.youtube.com/watch?v=FZ_G0VuXqWE','https://www.youtube.com/watch?v=SAZReHUMKwU','https://www.youtube.com/watch?v=3WPfcq_qnbk','https://www.youtube.com/watch?v=3CzrJbj5Fts','https://www.youtube.com/watch?v=gvi22Uz0P-Y','https://www.youtube.com/watch?v=LuSHj0bM-fI','https://www.youtube.com/watch?v=gjkaxni5HeI','https://www.youtube.com/watch?v=lp3M6ox0tc8','https://www.youtube.com/watch?v=7wEdptdJbfM','https://www.youtube.com/watch?v=29bgJqpao6g','https://www.youtube.com/watch?v=kjBIgcpaMXg','https://www.youtube.com/watch?v=Mqkm7aFxezQ','https://www.youtube.com/watch?v=va8rLxLlH-8','https://www.youtube.com/watch?v=hXrU6oxAaV0','https://www.youtube.com/watch?v=2IquGgfOkbc','https://www.youtube.com/watch?v=h9_KNzGWPsg','https://www.youtube.com/watch?v=xmEP0W8SU14','https://www.youtube.com/watch?v=GG3ZyvpzV80','https://www.youtube.com/watch?v=ddIwa-eOrwY','https://www.youtube.com/watch?v=CdeBqQQa3Aw','https://www.youtube.com/watch?v=8lfSuANMmt8','https://www.youtube.com/watch?v=wDOibbGr68g','https://www.youtube.com/watch?v=7avPDFWS-RI','https://www.youtube.com/watch?v=k0anvwe8yqc','https://www.youtube.com/watch?v=R1aTca_H0Ng','https://www.youtube.com/watch?v=i4zlW-OG4cI','https://www.youtube.com/watch?v=N6WXSAdXQ48','https://www.youtube.com/watch?v=RqaJJ2k39Qg','https://www.youtube.com/watch?v=U_F-oIfBD0o','https://www.youtube.com/watch?v=-YHJjkoP7ds','https://www.youtube.com/watch?v=c7mdHl99P4I','https://www.youtube.com/watch?v=Xf03bD_vDwY','https://www.youtube.com/watch?v=QvLyS-qqnxY','https://www.youtube.com/watch?v=WO8kGKMY0SY','https://www.youtube.com/watch?v=nkBnWXtNlZQ','https://www.youtube.com/watch?v=s5vni-WjHuc','https://www.youtube.com/watch?v=s5vni-WjHuc','https://www.youtube.com/watch?v=Q8bTnsUVcLk','https://www.youtube.com/watch?v=a3dRHIqvphE','https://www.youtube.com/watch?v=J3RLBtV11Zw','https://www.youtube.com/watch?v=T2BNTObMCdg','https://www.youtube.com/watch?v=XlK-6cMfDog','https://www.youtube.com/watch?v=GG3ZyvpzV80&t=3s','https://www.youtube.com/watch?v=ubK6RYf4StE','https://www.youtube.com/watch?v=oQwLTLlwV4w','https://www.youtube.com/watch?v=3y1gFgjg3tk','https://www.youtube.com/watch?v=gsFm7UOFMIQ','https://www.youtube.com/watch?v=0Cmd37hpq2w','https://www.youtube.com/watch?v=gcf80uHFtTk','https://www.youtube.com/watch?v=vQJeF3YBAIY','https://www.youtube.com/watch?v=PTT5N8-796w','https://www.youtube.com/watch?v=3l4lN34dmIo','https://www.youtube.com/watch?v=VJBjn4V_jyw','https://www.youtube.com/watch?v=hC0Qv2or1nA','https://www.youtube.com/watch?v=3V1dY_NBcM0','https://www.youtube.com/watch?v=j3K-YykMIG8','https://www.youtube.com/watch?v=nYC7zIXvQgQ','https://www.youtube.com/watch?v=rOogdOQ8Ij4','https://www.youtube.com/watch?v=SZJbiR2r9Xs','https://www.youtube.com/watch?v=vLWZ8FrcBgQ','https://www.youtube.com/watch?v=2ydpHtpFphg','https://www.youtube.com/watch?v=PrYXc34yIjs','https://www.youtube.com/watch?v=IVtHBnhY93A','https://www.youtube.com/watch?v=1JprpSnjOpU','https://www.youtube.com/watch?v=MjMZclEaTa4','https://www.youtube.com/watch?v=CdeBqQQa3Aw&t=2s','https://www.youtube.com/watch?v=Z2qT3b-7pGI','https://www.youtube.com/watch?v=19rXO8COcTA','https://www.youtube.com/watch?v=Gg4-pv5JFkQ','https://www.youtube.com/watch?v=a1IoLb28DoU','https://www.youtube.com/watch?v=R1aTca_H0Ng&t=2s','https://www.youtube.com/watch?v=N5bsvUSWlkI','https://www.youtube.com/watch?v=yZtMvwjpN70','https://www.youtube.com/watch?v=mWAxms32xkM','https://www.youtube.com/watch?v=9-hV2KDROX4','https://www.youtube.com/watch?v=Cy17ZoxiGNg','https://www.youtube.com/watch?v=XkThTtfojpY','https://www.youtube.com/watch?v=oG1K45adpYs','https://www.youtube.com/watch?v=C6o_qPP1HGY','https://www.youtube.com/watch?v=CRex-8kZ5Qs','https://www.youtube.com/watch?v=FLDQq-iMcT4','https://www.youtube.com/watch?v=cQ4bvgKaVqw','https://www.youtube.com/watch?v=hojxEBnT3iI','https://www.youtube.com/watch?v=kCOyH5txSw4','https://www.youtube.com/watch?v=2GmEOPCG41s','https://www.youtube.com/watch?v=XsMQ9rwCbHw','https://www.youtube.com/watch?v=bue4HOoDVz0','https://www.youtube.com/watch?v=6UFMFOQykHk','https://www.youtube.com/watch?v=WL4ui9oXplg','https://www.youtube.com/watch?v=Axm_48SVT1c','https://www.youtube.com/watch?v=zvCsxtmIP7A','https://www.youtube.com/watch?v=7BDp_4nr-N8','https://www.youtube.com/watch?v=Rv_-k3CQbn8','https://www.youtube.com/watch?v=96cazJFGHp4','https://www.youtube.com/watch?v=Fyn9Udp6spI','https://www.youtube.com/watch?v=g37LXsM31Ac','https://www.youtube.com/watch?v=PNNt1j1FHTI','https://www.youtube.com/watch?v=sdeNohr-fRs','https://www.youtube.com/watch?v=_JKoEkNmNvw','https://www.youtube.com/watch?v=1vMoIcDv68k','https://www.youtube.com/watch?v=nkBnWXtNlZQ&t=1s','https://www.youtube.com/watch?v=24lICVOPICI','https://www.youtube.com/watch?v=-JpPyEspTMs'] "
      ],
      "metadata": {
        "id": "ZLoWw81_l-Iq"
      },
      "execution_count": null,
      "outputs": []
    },
    {
      "cell_type": "code",
      "source": [
        "print(len(urls))"
      ],
      "metadata": {
        "colab": {
          "base_uri": "https://localhost:8080/"
        },
        "id": "cVQ7CV6b2FlT",
        "outputId": "6af7bdd4-1764-4e7a-8412-8f3c48dcc20b"
      },
      "execution_count": null,
      "outputs": [
        {
          "output_type": "stream",
          "name": "stdout",
          "text": [
            "108\n"
          ]
        }
      ]
    },
    {
      "cell_type": "code",
      "source": [
        "save_dir = \"/content/drive/MyDrive/Data 2nd/VDO\" # 저장경로\n",
        "for url in urls:\n",
        "  print(url)\n",
        "  yt = pytube.YouTube(url, on_progress_callback=on_progress) \n",
        "  print(yt.streams)\n",
        "  yt.streams.filter(progressive=True, file_extension=\"mp4\").order_by(\"resolution\").desc().first().download(save_dir)"
      ],
      "metadata": {
        "id": "bAKO9EMZ1O4x"
      },
      "execution_count": null,
      "outputs": []
    },
    {
      "cell_type": "code",
      "source": [
        "from pytube import YouTube\n",
        "\n",
        "DOWNLOAD_FOLDER = \"C:\\\\Users\\\\hlee\\\\Desktop\"\n",
        "\n",
        "url = \"https://www.youtube.com/watch?v=d6LGnVCL1_A\"\n",
        "\n",
        "yt = YouTube(url)\n",
        "stream = yt.streams.get_highest_resolution()\n",
        "stream.download(DOWNLOAD_FOLDER)"
      ],
      "metadata": {
        "id": "BJ1ckpf3p9Vx",
        "colab": {
          "base_uri": "https://localhost:8080/",
          "height": 35
        },
        "outputId": "689177ab-1c2d-4e81-8da3-6bc2dd41b9d3"
      },
      "execution_count": null,
      "outputs": [
        {
          "output_type": "execute_result",
          "data": {
            "text/plain": [
              "'/content/C:\\\\Users\\\\hlee\\\\Desktop/Outer Wilds - Official Reveal Trailer.mp4'"
            ],
            "application/vnd.google.colaboratory.intrinsic+json": {
              "type": "string"
            }
          },
          "metadata": {},
          "execution_count": 10
        }
      ]
    }
  ]
}