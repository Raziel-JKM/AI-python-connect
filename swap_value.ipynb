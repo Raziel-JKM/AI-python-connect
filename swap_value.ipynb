{
  "nbformat": 4,
  "nbformat_minor": 0,
  "metadata": {
    "colab": {
      "name": "swap value.ipynb",
      "provenance": [],
      "authorship_tag": "ABX9TyNohy2xuF3qXo4dPiP5YgCj",
      "include_colab_link": true
    },
    "kernelspec": {
      "name": "python3",
      "display_name": "Python 3"
    },
    "language_info": {
      "name": "python"
    }
  },
  "cells": [
    {
      "cell_type": "markdown",
      "metadata": {
        "id": "view-in-github",
        "colab_type": "text"
      },
      "source": [
        "<a href=\"https://colab.research.google.com/github/Raziel-JKM/AI-python-connect/blob/master/swap_value.ipynb\" target=\"_parent\"><img src=\"https://colab.research.google.com/assets/colab-badge.svg\" alt=\"Open In Colab\"/></a>"
      ]
    },
    {
      "cell_type": "code",
      "metadata": {
        "id": "L7Sfo1719ul5"
      },
      "source": [
        "a = [1,2,3,4,5]\n",
        "\n",
        "def swap_reference (list, offset_x, offset_y):\n",
        "\n",
        "    temp = list[offset_x]\n",
        "\n",
        "    list[offset_x] = list[offset_y]\n",
        "    list[offset_y] = temp"
      ],
      "execution_count": 12,
      "outputs": []
    },
    {
      "cell_type": "code",
      "metadata": {
        "id": "pu3EBm559vjD"
      },
      "source": [
        "def swap_value (x, y): \n",
        "\n",
        "    temp = x\n",
        "    x = y\n",
        "    y = temp"
      ],
      "execution_count": 13,
      "outputs": []
    },
    {
      "cell_type": "code",
      "metadata": {
        "id": "xPlzXHuG-JhN"
      },
      "source": [
        "def swap_offset (offset_x, offset_y):\n",
        "\n",
        "    temp = a[offset_x]\n",
        "    a[offset_x] = a[offset_y]\n",
        "    a[offset_y] = temp"
      ],
      "execution_count": 14,
      "outputs": []
    },
    {
      "cell_type": "code",
      "metadata": {
        "colab": {
          "base_uri": "https://localhost:8080/"
        },
        "id": "pSyyBcXN_JgY",
        "outputId": "58fd2168-2068-4265-9b17-57c8f689ef39"
      },
      "source": [
        "a = [1,2,3,4,5]\n",
        "\n",
        "swap_value(a[1], a[2])\n",
        "\n",
        "print (a) # [1,2,3,4,5]\n",
        "swap_offset(1,2)\n",
        "\n",
        "print (a) # [1,3,2,4,5]\n",
        "swap_reference(a, 1, 2)\n",
        "print (a) # [1,3,2,4,5]"
      ],
      "execution_count": 16,
      "outputs": [
        {
          "output_type": "stream",
          "text": [
            "[1, 2, 3, 4, 5]\n",
            "[1, 3, 2, 4, 5]\n",
            "[1, 2, 3, 4, 5]\n"
          ],
          "name": "stdout"
        }
      ]
    },
    {
      "cell_type": "code",
      "metadata": {
        "colab": {
          "base_uri": "https://localhost:8080/"
        },
        "id": "hEAo6a0u_SjA",
        "outputId": "81efaea1-b4b7-49ed-92e9-686f30375e3a"
      },
      "source": [
        "a = [1,2,3,4,5]\n",
        "\n",
        "swap_value(a[1], a[2])\n",
        "\n",
        "print (a) # [1,2,3,4,5]"
      ],
      "execution_count": 15,
      "outputs": [
        {
          "output_type": "stream",
          "text": [
            "[1, 2, 3, 4, 5]\n"
          ],
          "name": "stdout"
        }
      ]
    },
    {
      "cell_type": "code",
      "metadata": {
        "colab": {
          "base_uri": "https://localhost:8080/"
        },
        "id": "WQW72De4_6dq",
        "outputId": "162f15c7-278b-4980-e1b8-627dc5c9d5ad"
      },
      "source": [
        "# Python program to swap two variables\n",
        "\n",
        "x = 5\n",
        "y = 10\n",
        "\n",
        "# To take inputs from the user\n",
        "#x = input('Enter value of x: ')\n",
        "#y = input('Enter value of y: ')\n",
        "\n",
        "# create a temporary variable and swap the values\n",
        "temp = x\n",
        "x = y\n",
        "y = temp\n",
        "\n",
        "print('The value of x after swapping: {}'.format(x))\n",
        "print('The value of y after swapping: {}'.format(y))"
      ],
      "execution_count": 7,
      "outputs": [
        {
          "output_type": "stream",
          "text": [
            "The value of x after swapping: 10\n",
            "The value of y after swapping: 5\n"
          ],
          "name": "stdout"
        }
      ]
    },
    {
      "cell_type": "code",
      "metadata": {
        "colab": {
          "base_uri": "https://localhost:8080/"
        },
        "id": "Gl73fX3NBkKh",
        "outputId": "2fd18ee0-e158-42ef-e9f2-51801bc2c448"
      },
      "source": [
        "def factorial(n):\n",
        "\n",
        "    if n == 1:\n",
        "\n",
        "        return 1\n",
        "\n",
        "    else:\n",
        "\n",
        "        return n + factorial(n-1)\n",
        "\n",
        "print (factorial(int(input(\"Input Number for Factorial Calculation: \"))))"
      ],
      "execution_count": 11,
      "outputs": [
        {
          "output_type": "stream",
          "text": [
            "Input Number for Factorial Calculation: 5\n",
            "15\n"
          ],
          "name": "stdout"
        }
      ]
    }
  ]
}